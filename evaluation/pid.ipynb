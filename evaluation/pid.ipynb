{
 "cells": [
  {
   "cell_type": "markdown",
   "id": "6c5adacb",
   "metadata": {},
   "source": [
    "# PID evaluation\n",
    "\n",
    "We will evaluate the performance of the PID controller under 3 different conditions. Nominal, with noise and with disturbances."
   ]
  },
  {
   "cell_type": "code",
   "execution_count": null,
   "id": "a378ee6b",
   "metadata": {
    "vscode": {
     "languageId": "julia"
    }
   },
   "outputs": [],
   "source": [
    "from evaluation.src.metrics import *\n",
    "from evaluation.src.data_loader import load_data\n",
    "import pandas as pd\n",
    "import numpy as numpy"
   ]
  },
  {
   "cell_type": "code",
   "execution_count": null,
   "id": "f077015e",
   "metadata": {
    "vscode": {
     "languageId": "julia"
    }
   },
   "outputs": [],
   "source": [
    "# calculate mean, variance, ci for steady state, overshoot, rise_time, settling_time, comfort_time, energy efficiency, mse\n",
    "\n",
    "# store results in a csv with metrics as rows and mean var ci as columns\n",
    "\n",
    "# do gmm to inspect about influence of outside temperature"
   ]
  },
  {
   "cell_type": "code",
   "execution_count": null,
   "id": "60fac53e",
   "metadata": {
    "vscode": {
     "languageId": "julia"
    }
   },
   "outputs": [],
   "source": [
    "results_nominal = load_data('pid', 'nomina')\n",
    "results_with_noise = load_data('pid', 'noise')\n",
    "results_with_disturbances = load_data('pid', 'disturbances')"
   ]
  },
  {
   "cell_type": "markdown",
   "id": "0e4ede91",
   "metadata": {},
   "source": [
    "## Nominal analysis"
   ]
  },
  {
   "cell_type": "code",
   "execution_count": null,
   "id": "6ca04ce2",
   "metadata": {
    "vscode": {
     "languageId": "julia"
    }
   },
   "outputs": [],
   "source": [
    "steady_state_errors = steady_state_error(data, 'measuredTemp', 'targetTemp') for data in results_nominal\n",
    "mean_square_errors = mean_square_error(data, 'measuredTemp','targetTemp') for data in results_nominal\n",
    "overshoot = overshoot(data, 'measuredTemp','targetTemp') for data in results_nominal\n",
    "rise_times = rise_time(data, 'measuredTemp','targetTemp') for data in results_nominal\n",
    "settling_times = settling_time(data, 'measuredTemp','targetTemp') for data in results_nominal\n",
    "comfort_times = comfort_time(data, 'measuredTemp','targetTemp') for data in results_nominal\n",
    "energy_consumed = energy_consumed(data, 'measuredTemp','targetTemp') for data in results_nominal"
   ]
  },
  {
   "cell_type": "code",
   "execution_count": null,
   "id": "98148033",
   "metadata": {
    "vscode": {
     "languageId": "julia"
    }
   },
   "outputs": [],
   "source": [
    "# plot all metrics for runs"
   ]
  },
  {
   "cell_type": "code",
   "execution_count": null,
   "id": "3fb3d6fe",
   "metadata": {
    "vscode": {
     "languageId": "julia"
    }
   },
   "outputs": [],
   "source": [
    "evaluation_results = pd.DataFrame('mean', 'mean_ci', 'var', 'var_ci')\n",
    "\n",
    "evaluation_results.add(metric, metric.mean(), metric.mean_ci(), metric.var(), metric.var_ci()) for metric in metrics\n",
    "\n",
    "evaluation_results.to_csv(\"path\")"
   ]
  },
  {
   "cell_type": "code",
   "execution_count": null,
   "id": "07d4562f",
   "metadata": {
    "vscode": {
     "languageId": "julia"
    }
   },
   "outputs": [],
   "source": [
    "# use gmm to see correlation between temperatures outside and performance\n",
    "\n",
    "# probably need to add mse column "
   ]
  }
 ],
 "metadata": {
  "language_info": {
   "name": "python"
  }
 },
 "nbformat": 4,
 "nbformat_minor": 5
}
