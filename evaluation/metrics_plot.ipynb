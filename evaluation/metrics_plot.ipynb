{
 "cells": [
  {
   "cell_type": "code",
   "execution_count": null,
   "id": "dabeebf5",
   "metadata": {},
   "outputs": [],
   "source": [
    "import pandas as pd\n",
    "import seaborn as sns\n",
    "import matplotlib.pyplot as plt\n",
    "import numpy as np\n",
    "import os\n"
   ]
  },
  {
   "cell_type": "markdown",
   "id": "6407e720",
   "metadata": {},
   "source": [
    "# Nominal scenario - Comparison between controllers"
   ]
  },
  {
   "cell_type": "code",
   "execution_count": null,
   "id": "b6107438",
   "metadata": {},
   "outputs": [],
   "source": [
    "# Load summary stats\n",
    "summary_pid = pd.read_csv(\"simulation_results/statistics/results_pid_nominal_aggregated_low_var.csv\")\n",
    "summary_onoff = pd.read_csv(\"simulation_results/statistics/results_onoff_nominal_aggregated_low_var.csv\")\n",
    "summary_fuzzy = pd.read_csv(\"simulation_results/statistics/results_fuzzy_nominal_aggregated_low_var.csv\")\n",
    "\n",
    "summary_pid['source'] = 'PID'\n",
    "summary_onoff['source'] = 'ON/OFF'\n",
    "summary_fuzzy['source'] = 'Fuzzy'\n",
    "\n",
    "summary_stats = pd.concat([summary_pid, summary_onoff, summary_fuzzy])\n",
    "\n",
    "# Load per-run results\n",
    "results_pid = pd.read_csv(\"simulation_results/statistics/results_pid_nominal_all_low_var.csv\" )\n",
    "results_onoff = pd.read_csv(\"simulation_results/statistics/results_onoff_nominal_all_low_var.csv\")\n",
    "results_fuzzy = pd.read_csv(\"simulation_results/statistics/results_fuzzy_nominal_all_low_var.csv\")\n",
    "\n",
    "# Label sources (if not consistent already)\n",
    "results_pid['controller'] = 'PID'\n",
    "results_onoff['controller'] = 'ON/OFF'\n",
    "results_fuzzy['controller'] = 'Fuzzy'\n",
    "\n",
    "results = pd.concat([results_pid, results_onoff, results_fuzzy])\n",
    "\n",
    "palette = {'PID': 'skyblue', 'ON/OFF': 'salmon', 'Fuzzy': 'lightgreen'}"
   ]
  },
  {
   "cell_type": "code",
   "execution_count": null,
   "id": "040151c2",
   "metadata": {},
   "outputs": [],
   "source": [
    "\n",
    "def boxplot_of_metrics(results, summary_stats, palette):\n",
    "    \"\"\"\n",
    "    Draws boxplots for each metric in the results DataFrame,\n",
    "    overlaying mean and confidence intervals from summary_stats.\n",
    "    \"\"\"\n",
    "    metrics = results['metric'].unique()\n",
    "\n",
    "    for metric in metrics:\n",
    "        plt.figure(figsize=(10, 6))\n",
    "\n",
    "        # Filter data\n",
    "        metric_results = results[results['metric'] == metric]\n",
    "        metric_results_clean = metric_results.dropna(subset=['value'])\n",
    "        print(metric_results_clean.head())\n",
    "        metric_summary = summary_stats[summary_stats['metric'] == metric]\n",
    "\n",
    "        # Draw boxplot\n",
    "        ax = sns.boxplot(\n",
    "            data=metric_results_clean,\n",
    "            x='controller', y='value',\n",
    "            palette=palette,\n",
    "            hue='controller',\n",
    "            showmeans=False\n",
    "        )\n",
    "\n",
    "        # Add mean + CI overlay\n",
    "        for i, row in metric_summary.iterrows():\n",
    "            x_pos = ['PID', 'ON/OFF', 'Fuzzy'].index(row['source'])\n",
    "\n",
    "            # Mean as black dot\n",
    "            ax.plot(x_pos, row['mean'], 'o', color='black')\n",
    "\n",
    "            # CI for mean\n",
    "            ax.errorbar(x=x_pos, y=row['mean'],\n",
    "                       yerr=[[row['mean'] - row['mean_ci_lower']], [row['mean_ci_upper'] - row['mean']]],\n",
    "                        fmt='none', ecolor='black', capsize=5, lw=2)\n",
    "\n",
    "        plt.title(f\"{metric} — Boxplot with Mean and CI\")\n",
    "        plt.xlabel(\"Controller\")\n",
    "        plt.ylabel(metric)\n",
    "        plt.show()\n"
   ]
  },
  {
   "cell_type": "code",
   "execution_count": null,
   "id": "b8cf41a1",
   "metadata": {},
   "outputs": [],
   "source": [
    "boxplot_of_metrics(results, summary_stats, palette)"
   ]
  },
  {
   "cell_type": "markdown",
   "id": "6a2bb56c",
   "metadata": {},
   "source": [
    "# Noise scenario - Comparison between controllers"
   ]
  },
  {
   "cell_type": "code",
   "execution_count": null,
   "id": "28067ce7",
   "metadata": {},
   "outputs": [],
   "source": [
    "# Load summary stats\n",
    "summary_pid = pd.read_csv(\"simulation_results/statistics/results_pid_with_noise_aggregated_low_var.csv\")\n",
    "summary_onoff = pd.read_csv(\"simulation_results/statistics/results_onoff_with_noise_aggregated_low_var.csv\")\n",
    "summary_fuzzy = pd.read_csv(\"simulation_results/statistics/results_fuzzy_with_noise_aggregated_low_var.csv\")\n",
    "\n",
    "summary_pid['source'] = 'PID'\n",
    "summary_onoff['source'] = 'ON/OFF'\n",
    "summary_fuzzy['source'] = 'Fuzzy'\n",
    "\n",
    "summary_stats_noise = pd.concat([summary_pid, summary_onoff, summary_fuzzy])\n",
    "\n",
    "# Load per-run results\n",
    "results_pid = pd.read_csv(\"simulation_results/statistics/results_pid_with_noise_all_low_var.csv\" )\n",
    "results_onoff = pd.read_csv(\"simulation_results/statistics/results_onoff_with_noise_all_low_var.csv\")\n",
    "results_fuzzy = pd.read_csv(\"simulation_results/statistics/results_fuzzy_with_noise_all_low_var.csv\")\n",
    "\n",
    "# Label sources (if not consistent already)\n",
    "results_pid['controller'] = 'PID'\n",
    "results_onoff['controller'] = 'ON/OFF'\n",
    "results_fuzzy['controller'] = 'Fuzzy'\n",
    "\n",
    "results_noise = pd.concat([results_pid, results_onoff, results_fuzzy])\n"
   ]
  },
  {
   "cell_type": "code",
   "execution_count": null,
   "id": "37167d0b",
   "metadata": {},
   "outputs": [],
   "source": [
    "boxplot_of_metrics(results_noise, summary_stats_noise, palette)"
   ]
  },
  {
   "cell_type": "markdown",
   "id": "5131ac0c",
   "metadata": {},
   "source": [
    "# Disturbances scenario "
   ]
  },
  {
   "cell_type": "code",
   "execution_count": null,
   "id": "5cb95633",
   "metadata": {},
   "outputs": [],
   "source": [
    "# Load summary stats\n",
    "summary_pid = pd.read_csv(\"simulation_results/statistics/results_pid_with_disturbances_aggregated.csv\")\n",
    "summary_onoff = pd.read_csv(\"simulation_results/statistics/results_onoff_with_disturbances_aggregated.csv\")\n",
    "summary_fuzzy = pd.read_csv(\"simulation_results/statistics/results_fuzzy_with_disturbances_aggregated.csv\")\n",
    "\n",
    "summary_pid['source'] = 'PID'\n",
    "summary_onoff['source'] = 'ON/OFF'\n",
    "summary_fuzzy['source'] = 'Fuzzy'\n",
    "\n",
    "summary_stats_disturbances_ = pd.concat([summary_pid, summary_onoff, summary_fuzzy])\n",
    "\n",
    "# Load per-run results\n",
    "results_pid = pd.read_csv(\"simulation_results/statistics/results_pid_with_disturbances_all_low_var.csv\" )\n",
    "results_onoff = pd.read_csv(\"simulation_results/statistics/results_onoff_with_disturbances_all_low_var.csv\")\n",
    "results_fuzzy = pd.read_csv(\"simulation_results/statistics/results_fuzzy_with_disturbances_all_low_var.csv\")\n",
    "\n",
    "# Label sources (if not consistent already)\n",
    "results_pid['controller'] = 'PID'\n",
    "results_onoff['controller'] = 'ON/OFF'\n",
    "results_fuzzy['controller'] = 'Fuzzy'\n",
    "\n",
    "results_disturbances_ = pd.concat([results_pid, results_onoff, results_fuzzy])\n"
   ]
  },
  {
   "cell_type": "code",
   "execution_count": null,
   "id": "0b576cef",
   "metadata": {},
   "outputs": [],
   "source": [
    "\n",
    "boxplot_of_metrics(results_disturbances_, summary_stats_disturbances_, palette)"
   ]
  }
 ],
 "metadata": {
  "kernelspec": {
   "display_name": "venv",
   "language": "python",
   "name": "python3"
  },
  "language_info": {
   "codemirror_mode": {
    "name": "ipython",
    "version": 3
   },
   "file_extension": ".py",
   "mimetype": "text/x-python",
   "name": "python",
   "nbconvert_exporter": "python",
   "pygments_lexer": "ipython3",
   "version": "3.12.3"
  }
 },
 "nbformat": 4,
 "nbformat_minor": 5
}
