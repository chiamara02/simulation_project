{
 "cells": [
  {
   "cell_type": "markdown",
   "id": "6c5adacb",
   "metadata": {},
   "source": [
    "# Statistics generation and creation\n",
    "\n",
    "Notebook to read simulation data, calculate statistics and aggregated statistics and save to separate csv files"
   ]
  },
  {
   "cell_type": "code",
   "execution_count": 5,
   "id": "a378ee6b",
   "metadata": {},
   "outputs": [],
   "source": [
    "from src.metrics import *\n",
    "#from evaluation.src.data_loader import load_data\n",
    "import pandas as pd\n",
    "import numpy as numpy\n"
   ]
  },
  {
   "cell_type": "code",
   "execution_count": 6,
   "id": "60fac53e",
   "metadata": {},
   "outputs": [
    {
     "ename": "NameError",
     "evalue": "name 'load_data' is not defined",
     "output_type": "error",
     "traceback": [
      "\u001b[31m---------------------------------------------------------------------------\u001b[39m",
      "\u001b[31mNameError\u001b[39m                                 Traceback (most recent call last)",
      "\u001b[36mCell\u001b[39m\u001b[36m \u001b[39m\u001b[32mIn[6]\u001b[39m\u001b[32m, line 1\u001b[39m\n\u001b[32m----> \u001b[39m\u001b[32m1\u001b[39m results_pid_nominal = \u001b[43mload_data\u001b[49m(\u001b[33m'\u001b[39m\u001b[33mpid\u001b[39m\u001b[33m'\u001b[39m, \u001b[33m'\u001b[39m\u001b[33mnominal\u001b[39m\u001b[33m'\u001b[39m)\n\u001b[32m      2\u001b[39m results_pid_with_noise = load_data(\u001b[33m'\u001b[39m\u001b[33mpid\u001b[39m\u001b[33m'\u001b[39m, \u001b[33m'\u001b[39m\u001b[33mnoise\u001b[39m\u001b[33m'\u001b[39m)\n\u001b[32m      3\u001b[39m results_pid_with_disturbances = load_data(\u001b[33m'\u001b[39m\u001b[33mpid\u001b[39m\u001b[33m'\u001b[39m, \u001b[33m'\u001b[39m\u001b[33mdisturbances\u001b[39m\u001b[33m'\u001b[39m)\n",
      "\u001b[31mNameError\u001b[39m: name 'load_data' is not defined"
     ]
    }
   ],
   "source": [
    "results_pid_nominal = load_data('pid', 'nominal')\n",
    "results_pid_with_noise = load_data('pid', 'noise')\n",
    "results_pid_with_disturbances = load_data('pid', 'disturbances')\n",
    "\n",
    "results_onoff_nominal = load_data('onoff', 'nominal')\n",
    "results_onoff_with_noise = load_data('onoff', 'noise')\n",
    "results_onoff_with_disturbances = load_data('onoff', 'disturbances')\n",
    "\n",
    "results_fuzzy_nominal = load_data('fuzzy', 'nominal')\n",
    "results_fuzzy_with_noise = load_data('fuzzy', 'noise')\n",
    "results_fuzzy_with_disturbances = load_data('fuzzy', 'disturbances')\n",
    "\n",
    "metrics = [steady_state_error, mean_square_error, overshoot, rise_time, settling_time, comfort_time, \n",
    "            energy_consumed,variance_after_settling, recovery_time, number_of_oscillations]\n",
    "\n",
    "results = [results_pid_nominal, results_pid_with_noise, results_pid_with_disturbances,\n",
    "           results_onoff_nominal, results_onoff_with_noise, results_onoff_with_disturbances,\n",
    "           results_fuzzy_nominal, results_fuzzy_with_noise, results_fuzzy_with_disturbances]\n",
    "\n"
   ]
  },
  {
   "cell_type": "code",
   "execution_count": null,
   "id": "6ca04ce2",
   "metadata": {},
   "outputs": [],
   "source": [
    "def calculate_and_export_stats(results_array, metrics, folder_path='statistics'):\n",
    "    aggregated_stats = pd.DataFrame(columns=['metric', 'mean', 'mean_ci', 'var', 'var_ci'])\n",
    "    stats_per_run = []\n",
    "    for metric in metrics:\n",
    "        metric_results = ([metric(results_array, 'measuredTemp', np.full(len(result), 20.0), ) for result in results_array])\n",
    "        \n",
    "        stats_per_run.append({\n",
    "            'metric': metric.__name__,\n",
    "            'values': metric_results\n",
    "        })\n",
    "\n",
    "        metric_entry ={\n",
    "            'metric': metric.__name__,\n",
    "            'mean': np.mean(metric_results),\n",
    "            'mean_ci': np.std(metric_results) / np.sqrt(len(metric_results)),\n",
    "            'var': np.var(metric_results),\n",
    "            'var_ci': np.std(metric_results) / np.sqrt(len(metric_results))\n",
    "        }\n",
    "        aggregated_stats = pd.concat([aggregated_stats, pd.DataFrame([metric_entry])], ignore_index=True)\n",
    "\n",
    "    aggregated_stats.to_csv(f\"{folder_path}/{results_array}_aggregated.csv\", index=False)\n",
    "    stats_per_run_df = pd.DataFrame(stats_per_run)\n",
    "    stats_per_run_df.to_csv(f\"{folder_path}/{results_array}.csv\", index=False)"
   ]
  },
  {
   "cell_type": "code",
   "execution_count": null,
   "id": "98148033",
   "metadata": {},
   "outputs": [],
   "source": [
    "for result in results:\n",
    "    calculate_and_export_stats(result, metrics)\n",
    "    print(f\"Stats for {result} calculated and exported.\")\n"
   ]
  }
 ],
 "metadata": {
  "kernelspec": {
   "display_name": "venv",
   "language": "python",
   "name": "python3"
  },
  "language_info": {
   "codemirror_mode": {
    "name": "ipython",
    "version": 3
   },
   "file_extension": ".py",
   "mimetype": "text/x-python",
   "name": "python",
   "nbconvert_exporter": "python",
   "pygments_lexer": "ipython3",
   "version": "3.12.3"
  }
 },
 "nbformat": 4,
 "nbformat_minor": 5
}
