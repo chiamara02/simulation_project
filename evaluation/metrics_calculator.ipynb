{
 "cells": [
  {
   "cell_type": "markdown",
   "id": "6c5adacb",
   "metadata": {},
   "source": [
    "# Statistics generation and creation\n",
    "\n",
    "Notebook to read simulation data, calculate statistics and aggregated statistics and save to separate csv files"
   ]
  },
  {
   "cell_type": "code",
   "execution_count": 1,
   "id": "a378ee6b",
   "metadata": {},
   "outputs": [],
   "source": [
    "from src.metrics import *\n",
    "from src.data_loader import load_data\n",
    "import matplotlib.pyplot as plt\n",
    "import numpy as numpy\n",
    "import seaborn as sns\n",
    "import pandas as pd"
   ]
  },
  {
   "cell_type": "code",
   "execution_count": 2,
   "id": "60fac53e",
   "metadata": {},
   "outputs": [],
   "source": [
    "results_pid_nominal = load_data('pid', 'nominal')\n",
    "# results_pid_with_noise = load_data('pid', 'noise')\n",
    "# results_pid_with_disturbances = load_data('pid', 'disturbances')\n",
    "\n",
    "results_onoff_nominal = load_data('onoff', 'nominal')\n",
    "# results_onoff_with_noise = load_data('onoff', 'noise')\n",
    "# results_onoff_with_disturbances = load_data('onoff', 'disturbances')\n",
    "\n",
    "results_fuzzy_nominal = load_data('fuzzy', 'nominal')\n",
    "# results_fuzzy_with_noise = load_data('fuzzy', 'noise')\n",
    "# results_fuzzy_with_disturbances = load_data('fuzzy', 'disturbances')\n",
    "\n",
    "metrics = [steady_state_error, mean_square_error, overshoot, rise_time, settling_time, comfort_time, \n",
    "            energy_consumed,variance_after_settling, recovery_time, number_of_oscillations]\n",
    "\n",
    "results = {\n",
    "    \"results_pid_nominal\": results_pid_nominal,\n",
    "   # \"results_pid_with_noise\": results_pid_with_noise,\n",
    "   # \"results_pid_with_disturbances\": results_pid_with_disturbances,\n",
    "     \"results_onoff_nominal\": results_onoff_nominal,\n",
    "    # \"results_onoff_with_noise\": results_onoff_with_noise,\n",
    "    # \"results_onoff_with_disturbances\": results_onoff_with_disturbances,\n",
    "     \"results_fuzzy_nominal\": results_fuzzy_nominal,\n",
    "    # \"results_fuzzy_with_noise\": results_fuzzy_with_noise,\n",
    "    # \"results_fuzzy_with_disturbances\": results_fuzzy_with_disturbances,\n",
    "}\n",
    "\n"
   ]
  },
  {
   "cell_type": "code",
   "execution_count": 3,
   "id": "6ca04ce2",
   "metadata": {},
   "outputs": [],
   "source": [
    "def calculate_and_export_stats(scenario_results, metrics, scenario_name):\n",
    "    aggregated_stats = pd.DataFrame(columns=['metric', 'mean', 'mean_ci_lower','mean_ci_upper', 'var', 'var_ci_lower', 'var_ci_upper'])\n",
    "    stats_per_run = []\n",
    "    long_format_records = []\n",
    "    for metric in metrics:\n",
    "        metric_results = ([metric(result, 'measuredTemp', 20.0, 'windowState' ) for result in scenario_results])\n",
    "        \n",
    "        stats_per_run.append({\n",
    "            'metric': metric.__name__,\n",
    "            'values': metric_results\n",
    "        })\n",
    "\n",
    "        for i, value in enumerate(metric_results):\n",
    "            long_format_records.append({\n",
    "                'controller': scenario_name,\n",
    "                'run': i,\n",
    "                'metric': metric.__name__,\n",
    "                'value': value\n",
    "            })\n",
    "\n",
    "\n",
    "        # Calculate confidence intervals for mean and variance\n",
    "        mean, mean_ci_lower, mean_ci_upper = compute_confidence_interval(metric_results)\n",
    "        var, var_ci_lower, var_ci_upper = compute_variance_confidence_interval(metric_results)\n",
    "\n",
    "        \n",
    "        metric_entry ={\n",
    "            'metric': metric.__name__,\n",
    "            'mean': np.mean(metric_results),\n",
    "            'mean_ci_lower': mean_ci_lower,\n",
    "            'mean_ci_upper': mean_ci_upper,\n",
    "            'var': np.var(metric_results),\n",
    "            'var_ci_lower': var_ci_lower,\n",
    "            'var_ci_upper': var_ci_upper \n",
    "        }\n",
    "        aggregated_stats = pd.concat([aggregated_stats, pd.DataFrame([metric_entry])], ignore_index=True)\n",
    "\n",
    "    aggregated_stats.to_csv(f\"statistics/{scenario_name}_aggregated.csv\", index=False)\n",
    "    #stats_per_run_df = pd.DataFrame(stats_per_run)\n",
    "    #stats_per_run_df.to_csv(f\"statistics/{scenario_name}.csv\", index=False)\n",
    "    long_format_df = pd.DataFrame(long_format_records)\n",
    "    long_format_df.to_csv(f\"statistics/{scenario_name}_all.csv\", index=False)"
   ]
  },
  {
   "cell_type": "code",
   "execution_count": 4,
   "id": "98148033",
   "metadata": {},
   "outputs": [
    {
     "name": "stderr",
     "output_type": "stream",
     "text": [
      "/tmp/ipykernel_72742/2595276995.py:36: FutureWarning: The behavior of DataFrame concatenation with empty or all-NA entries is deprecated. In a future version, this will no longer exclude empty or all-NA columns when determining the result dtypes. To retain the old behavior, exclude the relevant entries before the concat operation.\n",
      "  aggregated_stats = pd.concat([aggregated_stats, pd.DataFrame([metric_entry])], ignore_index=True)\n"
     ]
    },
    {
     "name": "stdout",
     "output_type": "stream",
     "text": [
      "Stats for results_pid_nominal calculated and exported.\n"
     ]
    },
    {
     "name": "stderr",
     "output_type": "stream",
     "text": [
      "/tmp/ipykernel_72742/2595276995.py:36: FutureWarning: The behavior of DataFrame concatenation with empty or all-NA entries is deprecated. In a future version, this will no longer exclude empty or all-NA columns when determining the result dtypes. To retain the old behavior, exclude the relevant entries before the concat operation.\n",
      "  aggregated_stats = pd.concat([aggregated_stats, pd.DataFrame([metric_entry])], ignore_index=True)\n"
     ]
    },
    {
     "name": "stdout",
     "output_type": "stream",
     "text": [
      "Stats for results_onoff_nominal calculated and exported.\n"
     ]
    },
    {
     "name": "stderr",
     "output_type": "stream",
     "text": [
      "/tmp/ipykernel_72742/2595276995.py:36: FutureWarning: The behavior of DataFrame concatenation with empty or all-NA entries is deprecated. In a future version, this will no longer exclude empty or all-NA columns when determining the result dtypes. To retain the old behavior, exclude the relevant entries before the concat operation.\n",
      "  aggregated_stats = pd.concat([aggregated_stats, pd.DataFrame([metric_entry])], ignore_index=True)\n"
     ]
    },
    {
     "name": "stdout",
     "output_type": "stream",
     "text": [
      "Stats for results_fuzzy_nominal calculated and exported.\n"
     ]
    }
   ],
   "source": [
    "for name, scenario in results.items():\n",
    "    calculate_and_export_stats(scenario, metrics, scenario_name=name)\n",
    "    print(f\"Stats for {name} calculated and exported.\")\n",
    "\n"
   ]
  }
 ],
 "metadata": {
  "kernelspec": {
   "display_name": "venv",
   "language": "python",
   "name": "python3"
  },
  "language_info": {
   "codemirror_mode": {
    "name": "ipython",
    "version": 3
   },
   "file_extension": ".py",
   "mimetype": "text/x-python",
   "name": "python",
   "nbconvert_exporter": "python",
   "pygments_lexer": "ipython3",
   "version": "3.12.3"
  }
 },
 "nbformat": 4,
 "nbformat_minor": 5
}
