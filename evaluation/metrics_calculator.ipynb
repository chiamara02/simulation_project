{
 "cells": [
  {
   "cell_type": "markdown",
   "id": "6c5adacb",
   "metadata": {},
   "source": [
    "# Statistics generation and creation\n",
    "\n",
    "Notebook to read simulation data, calculate statistics and aggregated statistics and save to separate csv files"
   ]
  },
  {
   "cell_type": "code",
   "execution_count": 1,
   "id": "a378ee6b",
   "metadata": {},
   "outputs": [],
   "source": [
    "from src.metrics import *\n",
    "from src.data_loader import load_data\n",
    "import matplotlib.pyplot as plt\n",
    "import numpy as numpy\n",
    "#import seaborn as sns\n",
    "import pandas as pd"
   ]
  },
  {
   "cell_type": "code",
   "execution_count": 2,
   "id": "60fac53e",
   "metadata": {},
   "outputs": [],
   "source": [
    "results_pid_nominal = load_data('pid', 'nominal')\n",
    "# results_pid_with_noise = load_data('pid', 'noise')\n",
    "# results_pid_with_disturbances = load_data('pid', 'disturbances')\n",
    "\n",
    "results_onoff_nominal = load_data('onoff', 'nominal')\n",
    "# results_onoff_with_noise = load_data('onoff', 'noise')\n",
    "# results_onoff_with_disturbances = load_data('onoff', 'disturbances')\n",
    "\n",
    "results_fuzzy_nominal = load_data('fuzzy', 'nominal')\n",
    "# results_fuzzy_with_noise = load_data('fuzzy', 'noise')\n",
    "# results_fuzzy_with_disturbances = load_data('fuzzy', 'disturbances')\n",
    "\n",
    "metrics = [steady_state_error, mean_square_error, overshoot, rise_time, settling_time, comfort_time, \n",
    "            energy_consumed,variance_after_settling, recovery_time, number_of_oscillations]\n",
    "\n",
    "# results = [results_pid_nominal, results_pid_with_noise, results_pid_with_disturbances,\n",
    "#            results_onoff_nominal, results_onoff_with_noise, results_onoff_with_disturbances,\n",
    "#            results_fuzzy_nominal, results_fuzzy_with_noise, results_fuzzy_with_disturbances]\n",
    "\n",
    "results = [results_pid_nominal, results_onoff_nominal, results_fuzzy_nominal]\n"
   ]
  },
  {
   "cell_type": "code",
   "execution_count": 3,
   "id": "6ca04ce2",
   "metadata": {},
   "outputs": [],
   "source": [
    "def calculate_and_export_stats(results_array, metrics, folder_path='statistics'):\n",
    "    aggregated_stats = pd.DataFrame(columns=['metric', 'mean', 'mean_ci', 'var', 'var_ci'])\n",
    "    stats_per_run = []\n",
    "    for metric in metrics:\n",
    "        metric_results = ([metric(results_array, 'measuredTemp', np.full(len(result), 20.0), ) for result in results_array])\n",
    "        \n",
    "        stats_per_run.append({\n",
    "            'metric': metric.__name__,\n",
    "            'values': metric_results\n",
    "        })\n",
    "\n",
    "        # Calculate confidence intervals for mean and variance\n",
    "        mean, mean_ci_lower, mean_ci_upper = compute_confidence_interval(metric_results)\n",
    "        var, var_ci_lower, var_ci_upper = compute_variance_confidence_interval(metric_results)\n",
    "\n",
    "        \n",
    "        metric_entry ={\n",
    "            'metric': metric.__name__,\n",
    "            'mean': np.mean(metric_results),\n",
    "            'mean_ci': f\"[{mean_ci_lower:.4f}, {mean_ci_upper:.4f}]\", \n",
    "            'var': np.var(metric_results),\n",
    "            'var_ci': f\"[{var_ci_lower:.4f}, {var_ci_upper:.4f}]\"\n",
    "        }\n",
    "        aggregated_stats = pd.concat([aggregated_stats, pd.DataFrame([metric_entry])], ignore_index=True)\n",
    "\n",
    "    aggregated_stats.to_csv(f\"{folder_path}/{results_array}_aggregated.csv\", index=False)\n",
    "    stats_per_run_df = pd.DataFrame(stats_per_run)\n",
    "    stats_per_run_df.to_csv(f\"{folder_path}/{results_array}.csv\", index=False)"
   ]
  },
  {
   "cell_type": "code",
   "execution_count": 6,
   "id": "98148033",
   "metadata": {},
   "outputs": [
    {
     "ename": "TypeError",
     "evalue": "steady_state_error() missing 1 required positional argument: 'disturbance_src'",
     "output_type": "error",
     "traceback": [
      "\u001b[0;31m---------------------------------------------------------------------------\u001b[0m",
      "\u001b[0;31mTypeError\u001b[0m                                 Traceback (most recent call last)",
      "Cell \u001b[0;32mIn[6], line 2\u001b[0m\n\u001b[1;32m      1\u001b[0m \u001b[38;5;28;01mfor\u001b[39;00m result \u001b[38;5;129;01min\u001b[39;00m results:\n\u001b[0;32m----> 2\u001b[0m     \u001b[43mcalculate_and_export_stats\u001b[49m\u001b[43m(\u001b[49m\u001b[43mresult\u001b[49m\u001b[43m,\u001b[49m\u001b[43m \u001b[49m\u001b[43mmetrics\u001b[49m\u001b[43m)\u001b[49m\n\u001b[1;32m      3\u001b[0m     \u001b[38;5;28mprint\u001b[39m(\u001b[38;5;124mf\u001b[39m\u001b[38;5;124m\"\u001b[39m\u001b[38;5;124mStats for \u001b[39m\u001b[38;5;132;01m{\u001b[39;00mresult\u001b[38;5;132;01m}\u001b[39;00m\u001b[38;5;124m calculated and exported.\u001b[39m\u001b[38;5;124m\"\u001b[39m)\n",
      "Cell \u001b[0;32mIn[3], line 5\u001b[0m, in \u001b[0;36mcalculate_and_export_stats\u001b[0;34m(results_array, metrics, folder_path)\u001b[0m\n\u001b[1;32m      3\u001b[0m stats_per_run \u001b[38;5;241m=\u001b[39m []\n\u001b[1;32m      4\u001b[0m \u001b[38;5;28;01mfor\u001b[39;00m metric \u001b[38;5;129;01min\u001b[39;00m metrics:\n\u001b[0;32m----> 5\u001b[0m     metric_results \u001b[38;5;241m=\u001b[39m (\u001b[43m[\u001b[49m\u001b[43mmetric\u001b[49m\u001b[43m(\u001b[49m\u001b[43mresults_array\u001b[49m\u001b[43m,\u001b[49m\u001b[43m \u001b[49m\u001b[38;5;124;43m'\u001b[39;49m\u001b[38;5;124;43mmeasuredTemp\u001b[39;49m\u001b[38;5;124;43m'\u001b[39;49m\u001b[43m,\u001b[49m\u001b[43m \u001b[49m\u001b[43mnp\u001b[49m\u001b[38;5;241;43m.\u001b[39;49m\u001b[43mfull\u001b[49m\u001b[43m(\u001b[49m\u001b[38;5;28;43mlen\u001b[39;49m\u001b[43m(\u001b[49m\u001b[43mresult\u001b[49m\u001b[43m)\u001b[49m\u001b[43m,\u001b[49m\u001b[43m \u001b[49m\u001b[38;5;241;43m20.0\u001b[39;49m\u001b[43m)\u001b[49m\u001b[43m,\u001b[49m\u001b[43m \u001b[49m\u001b[43m)\u001b[49m\u001b[43m \u001b[49m\u001b[38;5;28;43;01mfor\u001b[39;49;00m\u001b[43m \u001b[49m\u001b[43mresult\u001b[49m\u001b[43m \u001b[49m\u001b[38;5;129;43;01min\u001b[39;49;00m\u001b[43m \u001b[49m\u001b[43mresults_array\u001b[49m\u001b[43m]\u001b[49m)\n\u001b[1;32m      7\u001b[0m     stats_per_run\u001b[38;5;241m.\u001b[39mappend({\n\u001b[1;32m      8\u001b[0m         \u001b[38;5;124m'\u001b[39m\u001b[38;5;124mmetric\u001b[39m\u001b[38;5;124m'\u001b[39m: metric\u001b[38;5;241m.\u001b[39m\u001b[38;5;18m__name__\u001b[39m,\n\u001b[1;32m      9\u001b[0m         \u001b[38;5;124m'\u001b[39m\u001b[38;5;124mvalues\u001b[39m\u001b[38;5;124m'\u001b[39m: metric_results\n\u001b[1;32m     10\u001b[0m     })\n\u001b[1;32m     12\u001b[0m     \u001b[38;5;66;03m# Calculate confidence intervals for mean and variance\u001b[39;00m\n",
      "Cell \u001b[0;32mIn[3], line 5\u001b[0m, in \u001b[0;36m<listcomp>\u001b[0;34m(.0)\u001b[0m\n\u001b[1;32m      3\u001b[0m stats_per_run \u001b[38;5;241m=\u001b[39m []\n\u001b[1;32m      4\u001b[0m \u001b[38;5;28;01mfor\u001b[39;00m metric \u001b[38;5;129;01min\u001b[39;00m metrics:\n\u001b[0;32m----> 5\u001b[0m     metric_results \u001b[38;5;241m=\u001b[39m ([\u001b[43mmetric\u001b[49m\u001b[43m(\u001b[49m\u001b[43mresults_array\u001b[49m\u001b[43m,\u001b[49m\u001b[43m \u001b[49m\u001b[38;5;124;43m'\u001b[39;49m\u001b[38;5;124;43mmeasuredTemp\u001b[39;49m\u001b[38;5;124;43m'\u001b[39;49m\u001b[43m,\u001b[49m\u001b[43m \u001b[49m\u001b[43mnp\u001b[49m\u001b[38;5;241;43m.\u001b[39;49m\u001b[43mfull\u001b[49m\u001b[43m(\u001b[49m\u001b[38;5;28;43mlen\u001b[39;49m\u001b[43m(\u001b[49m\u001b[43mresult\u001b[49m\u001b[43m)\u001b[49m\u001b[43m,\u001b[49m\u001b[43m \u001b[49m\u001b[38;5;241;43m20.0\u001b[39;49m\u001b[43m)\u001b[49m\u001b[43m,\u001b[49m\u001b[43m \u001b[49m\u001b[43m)\u001b[49m \u001b[38;5;28;01mfor\u001b[39;00m result \u001b[38;5;129;01min\u001b[39;00m results_array])\n\u001b[1;32m      7\u001b[0m     stats_per_run\u001b[38;5;241m.\u001b[39mappend({\n\u001b[1;32m      8\u001b[0m         \u001b[38;5;124m'\u001b[39m\u001b[38;5;124mmetric\u001b[39m\u001b[38;5;124m'\u001b[39m: metric\u001b[38;5;241m.\u001b[39m\u001b[38;5;18m__name__\u001b[39m,\n\u001b[1;32m      9\u001b[0m         \u001b[38;5;124m'\u001b[39m\u001b[38;5;124mvalues\u001b[39m\u001b[38;5;124m'\u001b[39m: metric_results\n\u001b[1;32m     10\u001b[0m     })\n\u001b[1;32m     12\u001b[0m     \u001b[38;5;66;03m# Calculate confidence intervals for mean and variance\u001b[39;00m\n",
      "\u001b[0;31mTypeError\u001b[0m: steady_state_error() missing 1 required positional argument: 'disturbance_src'"
     ]
    }
   ],
   "source": [
    "for result in results:\n",
    "    calculate_and_export_stats(result, metrics)\n",
    "    print(f\"Stats for {result} calculated and exported.\")\n"
   ]
  }
 ],
 "metadata": {
  "kernelspec": {
   "display_name": "base",
   "language": "python",
   "name": "python3"
  },
  "language_info": {
   "codemirror_mode": {
    "name": "ipython",
    "version": 3
   },
   "file_extension": ".py",
   "mimetype": "text/x-python",
   "name": "python",
   "nbconvert_exporter": "python",
   "pygments_lexer": "ipython3",
   "version": "3.11.7"
  }
 },
 "nbformat": 4,
 "nbformat_minor": 5
}
